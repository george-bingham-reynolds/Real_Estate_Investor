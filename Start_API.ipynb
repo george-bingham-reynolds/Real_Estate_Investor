{
 "cells": [
  {
   "cell_type": "markdown",
   "id": "19a60225",
   "metadata": {},
   "source": [
    "RUN BELOW TO START FLASK APP API"
   ]
  },
  {
   "cell_type": "code",
   "execution_count": null,
   "id": "264e0a6d",
   "metadata": {},
   "outputs": [],
   "source": [
    "!flask run"
   ]
  },
  {
   "cell_type": "code",
   "execution_count": null,
   "id": "de390929",
   "metadata": {},
   "outputs": [],
   "source": []
  }
 ],
 "metadata": {
  "kernelspec": {
   "display_name": "Python 3 (ipykernel)",
   "language": "python",
   "name": "python3"
  },
  "language_info": {
   "codemirror_mode": {
    "name": "ipython",
    "version": 3
   },
   "file_extension": ".py",
   "mimetype": "text/x-python",
   "name": "python",
   "nbconvert_exporter": "python",
   "pygments_lexer": "ipython3",
   "version": "3.11.4"
  }
 },
 "nbformat": 4,
 "nbformat_minor": 5
}
